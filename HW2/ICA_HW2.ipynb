{
  "nbformat": 4,
  "nbformat_minor": 0,
  "metadata": {
    "colab": {
      "name": "Cópia de ICA_HW2.ipynb",
      "provenance": [],
      "collapsed_sections": []
    },
    "kernelspec": {
      "display_name": "Python 3",
      "name": "python3"
    },
    "language_info": {
      "name": "python"
    }
  },
  "cells": [
    {
      "cell_type": "code",
      "metadata": {
        "id": "p0YYeaGds-gl",
        "colab": {
          "base_uri": "https://localhost:8080/"
        },
        "outputId": "a15d7474-d9b9-40b3-e857-568842f9215f"
      },
      "source": [
        "import pandas as pd\n",
        "import matplotlib.pyplot as plt\n",
        "import numpy as np\n",
        "import statsmodels.api as sm \n",
        "import seaborn as sns\n",
        "from scipy.stats import skew \n",
        "from sklearn.linear_model import LinearRegression\n",
        "from sklearn.metrics import mean_squared_error, r2_score\n",
        "from sklearn.model_selection import train_test_split\n",
        "from sklearn.model_selection import RepeatedKFold\n",
        "from sklearn.model_selection import cross_val_score\n",
        "from google.colab import drive"
      ],
      "execution_count": null,
      "outputs": [
        {
          "output_type": "stream",
          "text": [
            "/usr/local/lib/python3.7/dist-packages/statsmodels/tools/_testing.py:19: FutureWarning: pandas.util.testing is deprecated. Use the functions in the public API at pandas.testing instead.\n",
            "  import pandas.util.testing as tm\n"
          ],
          "name": "stderr"
        }
      ]
    },
    {
      "cell_type": "code",
      "metadata": {
        "colab": {
          "base_uri": "https://localhost:8080/"
        },
        "id": "3shK2YUYctjd",
        "outputId": "507bbba2-ff6a-454a-daf4-d7587674eb69"
      },
      "source": [
        "!pip install tikzplotlib"
      ],
      "execution_count": null,
      "outputs": [
        {
          "output_type": "stream",
          "text": [
            "Collecting tikzplotlib\n",
            "  Downloading tikzplotlib-0.9.9-py3-none-any.whl (53 kB)\n",
            "\u001b[?25l\r\u001b[K     |██████▏                         | 10 kB 22.4 MB/s eta 0:00:01\r\u001b[K     |████████████▎                   | 20 kB 21.7 MB/s eta 0:00:01\r\u001b[K     |██████████████████▍             | 30 kB 24.7 MB/s eta 0:00:01\r\u001b[K     |████████████████████████▌       | 40 kB 27.7 MB/s eta 0:00:01\r\u001b[K     |██████████████████████████████▋ | 51 kB 30.4 MB/s eta 0:00:01\r\u001b[K     |████████████████████████████████| 53 kB 2.0 MB/s \n",
            "\u001b[?25hRequirement already satisfied: matplotlib>=1.4.0 in /usr/local/lib/python3.7/dist-packages (from tikzplotlib) (3.2.2)\n",
            "Requirement already satisfied: importlib-metadata in /usr/local/lib/python3.7/dist-packages (from tikzplotlib) (4.6.1)\n",
            "Requirement already satisfied: Pillow in /usr/local/lib/python3.7/dist-packages (from tikzplotlib) (7.1.2)\n",
            "Requirement already satisfied: numpy in /usr/local/lib/python3.7/dist-packages (from tikzplotlib) (1.19.5)\n",
            "Requirement already satisfied: kiwisolver>=1.0.1 in /usr/local/lib/python3.7/dist-packages (from matplotlib>=1.4.0->tikzplotlib) (1.3.1)\n",
            "Requirement already satisfied: python-dateutil>=2.1 in /usr/local/lib/python3.7/dist-packages (from matplotlib>=1.4.0->tikzplotlib) (2.8.1)\n",
            "Requirement already satisfied: cycler>=0.10 in /usr/local/lib/python3.7/dist-packages (from matplotlib>=1.4.0->tikzplotlib) (0.10.0)\n",
            "Requirement already satisfied: pyparsing!=2.0.4,!=2.1.2,!=2.1.6,>=2.0.1 in /usr/local/lib/python3.7/dist-packages (from matplotlib>=1.4.0->tikzplotlib) (2.4.7)\n",
            "Requirement already satisfied: six in /usr/local/lib/python3.7/dist-packages (from cycler>=0.10->matplotlib>=1.4.0->tikzplotlib) (1.15.0)\n",
            "Requirement already satisfied: typing-extensions>=3.6.4 in /usr/local/lib/python3.7/dist-packages (from importlib-metadata->tikzplotlib) (3.7.4.3)\n",
            "Requirement already satisfied: zipp>=0.5 in /usr/local/lib/python3.7/dist-packages (from importlib-metadata->tikzplotlib) (3.5.0)\n",
            "Installing collected packages: tikzplotlib\n",
            "Successfully installed tikzplotlib-0.9.9\n"
          ],
          "name": "stdout"
        }
      ]
    },
    {
      "cell_type": "code",
      "metadata": {
        "id": "q7S_PsCuczdQ"
      },
      "source": [
        "import tikzplotlib\n"
      ],
      "execution_count": null,
      "outputs": []
    },
    {
      "cell_type": "markdown",
      "metadata": {
        "id": "_ZB364IcU11r"
      },
      "source": [
        "* Station Code: Código único para cada lugar\n",
        "* Locations: Nome do rio e para onde flui\n",
        "* State: O estado em que o rio está fluindo\n",
        "* Temp: Valor médio de temperatura\n",
        "* DO: Valor médio de oxigênio dissolvido\n",
        "* PH: Valor médio de pH\n",
        "* Conductivity: Valor médio de condutividade\n",
        "* BOD: Valor médio da demanda bioquímica de oxigênio\n",
        "* NITRATE_N_NITRITE_N: Valor médio de nitrato-n e nitrito-n\n",
        "* FECAL_COLIFORM: Valor médio de coliformes fecais\n",
        "* TOTAL_COLIFORM: Valor médio de coliformes totais\n",
        "\n",
        "\n",
        "\n"
      ]
    },
    {
      "cell_type": "code",
      "metadata": {
        "colab": {
          "base_uri": "https://localhost:8080/",
          "height": 365
        },
        "id": "lzqDho6VL-NF",
        "outputId": "359d2a2b-10e8-46ee-b96b-a9dd5b78e72f"
      },
      "source": [
        "path =\"/content/waterquality.csv\"\n",
        "dados = pd.read_csv(path,sep=',', engine='python')\n",
        "dados.head()"
      ],
      "execution_count": null,
      "outputs": [
        {
          "output_type": "execute_result",
          "data": {
            "text/html": [
              "<div>\n",
              "<style scoped>\n",
              "    .dataframe tbody tr th:only-of-type {\n",
              "        vertical-align: middle;\n",
              "    }\n",
              "\n",
              "    .dataframe tbody tr th {\n",
              "        vertical-align: top;\n",
              "    }\n",
              "\n",
              "    .dataframe thead th {\n",
              "        text-align: right;\n",
              "    }\n",
              "</style>\n",
              "<table border=\"1\" class=\"dataframe\">\n",
              "  <thead>\n",
              "    <tr style=\"text-align: right;\">\n",
              "      <th></th>\n",
              "      <th>STATION CODE</th>\n",
              "      <th>LOCATIONS</th>\n",
              "      <th>STATE</th>\n",
              "      <th>TEMP</th>\n",
              "      <th>DO</th>\n",
              "      <th>pH</th>\n",
              "      <th>CONDUCTIVITY</th>\n",
              "      <th>BOD</th>\n",
              "      <th>NITRATE_N_NITRITE_N</th>\n",
              "      <th>FECAL_COLIFORM</th>\n",
              "      <th>TOTAL_COLIFORM</th>\n",
              "    </tr>\n",
              "  </thead>\n",
              "  <tbody>\n",
              "    <tr>\n",
              "      <th>0</th>\n",
              "      <td>1312</td>\n",
              "      <td>GODAVARI AT JAYAKWADI DAM, AURNAGABAD,MAHARASHTRA</td>\n",
              "      <td>MAHARASHTRA</td>\n",
              "      <td>29.2</td>\n",
              "      <td>6.4</td>\n",
              "      <td>8.1</td>\n",
              "      <td>735.0</td>\n",
              "      <td>3.4</td>\n",
              "      <td>2.00</td>\n",
              "      <td>3.0</td>\n",
              "      <td>73.0</td>\n",
              "    </tr>\n",
              "    <tr>\n",
              "      <th>1</th>\n",
              "      <td>2177</td>\n",
              "      <td>GODAVARI RIVER NEAR SOMESHWAR TEMPLE.</td>\n",
              "      <td>MAHARASHTRA</td>\n",
              "      <td>24.5</td>\n",
              "      <td>6.0</td>\n",
              "      <td>8.0</td>\n",
              "      <td>270.0</td>\n",
              "      <td>3.1</td>\n",
              "      <td>2.00</td>\n",
              "      <td>72.0</td>\n",
              "      <td>182.0</td>\n",
              "    </tr>\n",
              "    <tr>\n",
              "      <th>2</th>\n",
              "      <td>2182</td>\n",
              "      <td>GODAVARI RIVER AT SAIKHEDA.</td>\n",
              "      <td>MAHARASHTRA</td>\n",
              "      <td>25.8</td>\n",
              "      <td>5.5</td>\n",
              "      <td>7.8</td>\n",
              "      <td>355.0</td>\n",
              "      <td>4.2</td>\n",
              "      <td>9.00</td>\n",
              "      <td>59.0</td>\n",
              "      <td>133.0</td>\n",
              "    </tr>\n",
              "    <tr>\n",
              "      <th>3</th>\n",
              "      <td>2179</td>\n",
              "      <td>GODAVARI RIVER AT HANUMAN GHAT, NASHIK CITY.</td>\n",
              "      <td>MAHARASHTRA</td>\n",
              "      <td>24.8</td>\n",
              "      <td>5.5</td>\n",
              "      <td>7.8</td>\n",
              "      <td>371.0</td>\n",
              "      <td>5.6</td>\n",
              "      <td>3.55</td>\n",
              "      <td>90.0</td>\n",
              "      <td>283.0</td>\n",
              "    </tr>\n",
              "    <tr>\n",
              "      <th>4</th>\n",
              "      <td>2183</td>\n",
              "      <td>GODAVARI RIVER AT NANDUR- MADMESHWAR DAM.</td>\n",
              "      <td>MAHARASHTRA</td>\n",
              "      <td>25.7</td>\n",
              "      <td>5.7</td>\n",
              "      <td>7.9</td>\n",
              "      <td>294.0</td>\n",
              "      <td>3.2</td>\n",
              "      <td>2.69</td>\n",
              "      <td>45.0</td>\n",
              "      <td>132.0</td>\n",
              "    </tr>\n",
              "  </tbody>\n",
              "</table>\n",
              "</div>"
            ],
            "text/plain": [
              "   STATION CODE  ... TOTAL_COLIFORM\n",
              "0          1312  ...           73.0\n",
              "1          2177  ...          182.0\n",
              "2          2182  ...          133.0\n",
              "3          2179  ...          283.0\n",
              "4          2183  ...          132.0\n",
              "\n",
              "[5 rows x 11 columns]"
            ]
          },
          "metadata": {
            "tags": []
          },
          "execution_count": 4
        }
      ]
    },
    {
      "cell_type": "markdown",
      "metadata": {
        "id": "G5XvyuWQNNNs"
      },
      "source": [
        "**Pré-processamento**\n",
        "\n",
        " Verifica-se a presença ou não de dados faltantes. Realiza também uma normalização dos dados em relação a média e o desvio padrão em virtude da ordem de grandeza dos dados.\n"
      ]
    },
    {
      "cell_type": "code",
      "metadata": {
        "id": "jvrzepW7UVfr"
      },
      "source": [
        "dados =dados.drop(['STATION CODE', 'LOCATIONS','STATE'], axis=1)"
      ],
      "execution_count": null,
      "outputs": []
    },
    {
      "cell_type": "code",
      "metadata": {
        "colab": {
          "base_uri": "https://localhost:8080/"
        },
        "id": "JQDW9BwBNaUj",
        "outputId": "82fb66f1-b2eb-48ae-e969-a83ef22b8368"
      },
      "source": [
        "dados.isnull().sum()"
      ],
      "execution_count": null,
      "outputs": [
        {
          "output_type": "execute_result",
          "data": {
            "text/plain": [
              "TEMP                    5\n",
              "DO                      2\n",
              "pH                      0\n",
              "CONDUCTIVITY           30\n",
              "BOD                     6\n",
              "NITRATE_N_NITRITE_N     2\n",
              "FECAL_COLIFORM         82\n",
              "TOTAL_COLIFORM         39\n",
              "dtype: int64"
            ]
          },
          "metadata": {
            "tags": []
          },
          "execution_count": 6
        }
      ]
    },
    {
      "cell_type": "markdown",
      "metadata": {
        "id": "P5pbjF9XNivK"
      },
      "source": [
        "Verifica-se  a presença de dados faltantes, opta-se por preencher com a o último registro válido "
      ]
    },
    {
      "cell_type": "code",
      "metadata": {
        "colab": {
          "base_uri": "https://localhost:8080/"
        },
        "id": "Bhb2Q_WPOvVb",
        "outputId": "f582fb60-c81f-45c4-cb5e-e051de54395e"
      },
      "source": [
        "dadostratados = dados.fillna(method='bfill')\n",
        "dadostratados.isnull().sum()"
      ],
      "execution_count": null,
      "outputs": [
        {
          "output_type": "execute_result",
          "data": {
            "text/plain": [
              "TEMP                   0\n",
              "DO                     0\n",
              "pH                     0\n",
              "CONDUCTIVITY           0\n",
              "BOD                    0\n",
              "NITRATE_N_NITRITE_N    0\n",
              "FECAL_COLIFORM         0\n",
              "TOTAL_COLIFORM         0\n",
              "dtype: int64"
            ]
          },
          "metadata": {
            "tags": []
          },
          "execution_count": 7
        }
      ]
    },
    {
      "cell_type": "code",
      "metadata": {
        "id": "O3PzWx_fO29h"
      },
      "source": [
        "variaveis = ['TEMP','DO','pH','CONDUCTIVITY','BOD','NITRATE_N_NITRITE_N','FECAL_COLIFORM','TOTAL_COLIFORM']"
      ],
      "execution_count": null,
      "outputs": []
    },
    {
      "cell_type": "code",
      "metadata": {
        "colab": {
          "base_uri": "https://localhost:8080/",
          "height": 206
        },
        "id": "3ZL7vf-XO7M-",
        "outputId": "93573294-b80b-44d3-b02c-1ac932db1d6a"
      },
      "source": [
        "dadostratados.head()"
      ],
      "execution_count": null,
      "outputs": [
        {
          "output_type": "execute_result",
          "data": {
            "text/html": [
              "<div>\n",
              "<style scoped>\n",
              "    .dataframe tbody tr th:only-of-type {\n",
              "        vertical-align: middle;\n",
              "    }\n",
              "\n",
              "    .dataframe tbody tr th {\n",
              "        vertical-align: top;\n",
              "    }\n",
              "\n",
              "    .dataframe thead th {\n",
              "        text-align: right;\n",
              "    }\n",
              "</style>\n",
              "<table border=\"1\" class=\"dataframe\">\n",
              "  <thead>\n",
              "    <tr style=\"text-align: right;\">\n",
              "      <th></th>\n",
              "      <th>TEMP</th>\n",
              "      <th>DO</th>\n",
              "      <th>pH</th>\n",
              "      <th>CONDUCTIVITY</th>\n",
              "      <th>BOD</th>\n",
              "      <th>NITRATE_N_NITRITE_N</th>\n",
              "      <th>FECAL_COLIFORM</th>\n",
              "      <th>TOTAL_COLIFORM</th>\n",
              "    </tr>\n",
              "  </thead>\n",
              "  <tbody>\n",
              "    <tr>\n",
              "      <th>0</th>\n",
              "      <td>29.2</td>\n",
              "      <td>6.4</td>\n",
              "      <td>8.1</td>\n",
              "      <td>735.0</td>\n",
              "      <td>3.4</td>\n",
              "      <td>2.00</td>\n",
              "      <td>3.0</td>\n",
              "      <td>73.0</td>\n",
              "    </tr>\n",
              "    <tr>\n",
              "      <th>1</th>\n",
              "      <td>24.5</td>\n",
              "      <td>6.0</td>\n",
              "      <td>8.0</td>\n",
              "      <td>270.0</td>\n",
              "      <td>3.1</td>\n",
              "      <td>2.00</td>\n",
              "      <td>72.0</td>\n",
              "      <td>182.0</td>\n",
              "    </tr>\n",
              "    <tr>\n",
              "      <th>2</th>\n",
              "      <td>25.8</td>\n",
              "      <td>5.5</td>\n",
              "      <td>7.8</td>\n",
              "      <td>355.0</td>\n",
              "      <td>4.2</td>\n",
              "      <td>9.00</td>\n",
              "      <td>59.0</td>\n",
              "      <td>133.0</td>\n",
              "    </tr>\n",
              "    <tr>\n",
              "      <th>3</th>\n",
              "      <td>24.8</td>\n",
              "      <td>5.5</td>\n",
              "      <td>7.8</td>\n",
              "      <td>371.0</td>\n",
              "      <td>5.6</td>\n",
              "      <td>3.55</td>\n",
              "      <td>90.0</td>\n",
              "      <td>283.0</td>\n",
              "    </tr>\n",
              "    <tr>\n",
              "      <th>4</th>\n",
              "      <td>25.7</td>\n",
              "      <td>5.7</td>\n",
              "      <td>7.9</td>\n",
              "      <td>294.0</td>\n",
              "      <td>3.2</td>\n",
              "      <td>2.69</td>\n",
              "      <td>45.0</td>\n",
              "      <td>132.0</td>\n",
              "    </tr>\n",
              "  </tbody>\n",
              "</table>\n",
              "</div>"
            ],
            "text/plain": [
              "   TEMP   DO   pH  ...  NITRATE_N_NITRITE_N  FECAL_COLIFORM  TOTAL_COLIFORM\n",
              "0  29.2  6.4  8.1  ...                 2.00             3.0            73.0\n",
              "1  24.5  6.0  8.0  ...                 2.00            72.0           182.0\n",
              "2  25.8  5.5  7.8  ...                 9.00            59.0           133.0\n",
              "3  24.8  5.5  7.8  ...                 3.55            90.0           283.0\n",
              "4  25.7  5.7  7.9  ...                 2.69            45.0           132.0\n",
              "\n",
              "[5 rows x 8 columns]"
            ]
          },
          "metadata": {
            "tags": []
          },
          "execution_count": 9
        }
      ]
    },
    {
      "cell_type": "markdown",
      "metadata": {
        "id": "bddRlBpIN4E0"
      },
      "source": [
        "Seja $X_i$ um preditor do dataset, $\\mu_i$ e $\\sigma_i$ a média e o desvio padrão desse respectivo preditor, realiza-se a seguinte normalização:\n",
        "$$\n",
        "X^{*}_i=\\frac{X_i-\\mu_i}{\\sigma_i}\n",
        "$$"
      ]
    },
    {
      "cell_type": "code",
      "metadata": {
        "id": "xdkwaNKtsmpL"
      },
      "source": [
        "dadostratados = (dadostratados - dadostratados.mean())/dadostratados.std()"
      ],
      "execution_count": null,
      "outputs": []
    },
    {
      "cell_type": "code",
      "metadata": {
        "colab": {
          "base_uri": "https://localhost:8080/",
          "height": 695
        },
        "id": "-0cQXXuwQruw",
        "outputId": "26c198f5-9ef2-4f82-8bc7-672830a89d99"
      },
      "source": [
        "plt.figure(figsize=(10, 10))\n",
        "corr = dadostratados.corr()\n",
        "_ = sns.heatmap(corr, annot=True )"
      ],
      "execution_count": null,
      "outputs": [
        {
          "output_type": "display_data",
          "data": {
            "image/png": "[encoded data removed]",
            "text/plain": [
              "<Figure size 720x720 with 2 Axes>"
            ]
          },
          "metadata": {
            "tags": [],
            "needs_background": "light"
          }
        }
      ]
    },
    {
      "cell_type": "markdown",
      "metadata": {
        "id": "hsdQ5QNfOdXv"
      },
      "source": [
        "Verifica-se a baixa correlação entre  a BOD e os seguintes preditores: temperatura, pH e condutividade.Então em virtude da sua pouca colacaboração para a construção do modelo opta-se por não considerá-los."
      ]
    },
    {
      "cell_type": "code",
      "metadata": {
        "id": "lxAs2NILsi__"
      },
      "source": [
        "variaveis = ['DO','BOD','NITRATE_N_NITRITE_N','FECAL_COLIFORM','TOTAL_COLIFORM']\n",
        "dadostratados =dadostratados.drop(['pH', 'TEMP','CONDUCTIVITY'], axis=1)"
      ],
      "execution_count": null,
      "outputs": []
    },
    {
      "cell_type": "code",
      "metadata": {
        "colab": {
          "base_uri": "https://localhost:8080/",
          "height": 695
        },
        "id": "EusaYLFDPEq2",
        "outputId": "5cc686cc-671a-4225-85a6-5285fc4624a9"
      },
      "source": [
        "plt.figure(figsize=(10, 10))\n",
        "corr = dadostratados.corr()\n",
        "_ = sns.heatmap(corr, annot=True )"
      ],
      "execution_count": null,
      "outputs": [
        {
          "output_type": "display_data",
          "data": {
            "image/png": "[encoded data removed]",
            "text/plain": [
              "<Figure size 720x720 with 2 Axes>"
            ]
          },
          "metadata": {
            "tags": [],
            "needs_background": "light"
          }
        }
      ]
    },
    {
      "cell_type": "code",
      "metadata": {
        "colab": {
          "base_uri": "https://localhost:8080/",
          "height": 424
        },
        "id": "PEJqvTIxsNpt",
        "outputId": "2ec81448-434d-42ef-cd70-bd8413ed3074"
      },
      "source": [
        "dadostratados"
      ],
      "execution_count": null,
      "outputs": [
        {
          "output_type": "execute_result",
          "data": {
            "text/html": [
              "<div>\n",
              "<style scoped>\n",
              "    .dataframe tbody tr th:only-of-type {\n",
              "        vertical-align: middle;\n",
              "    }\n",
              "\n",
              "    .dataframe tbody tr th {\n",
              "        vertical-align: top;\n",
              "    }\n",
              "\n",
              "    .dataframe thead th {\n",
              "        text-align: right;\n",
              "    }\n",
              "</style>\n",
              "<table border=\"1\" class=\"dataframe\">\n",
              "  <thead>\n",
              "    <tr style=\"text-align: right;\">\n",
              "      <th></th>\n",
              "      <th>DO</th>\n",
              "      <th>BOD</th>\n",
              "      <th>NITRATE_N_NITRITE_N</th>\n",
              "      <th>FECAL_COLIFORM</th>\n",
              "      <th>TOTAL_COLIFORM</th>\n",
              "    </tr>\n",
              "  </thead>\n",
              "  <tbody>\n",
              "    <tr>\n",
              "      <th>0</th>\n",
              "      <td>0.012500</td>\n",
              "      <td>-0.224315</td>\n",
              "      <td>0.216260</td>\n",
              "      <td>-0.230614</td>\n",
              "      <td>-0.082107</td>\n",
              "    </tr>\n",
              "    <tr>\n",
              "      <th>1</th>\n",
              "      <td>-0.232009</td>\n",
              "      <td>-0.259761</td>\n",
              "      <td>0.216260</td>\n",
              "      <td>-0.228193</td>\n",
              "      <td>-0.082030</td>\n",
              "    </tr>\n",
              "    <tr>\n",
              "      <th>2</th>\n",
              "      <td>-0.537646</td>\n",
              "      <td>-0.129792</td>\n",
              "      <td>2.699759</td>\n",
              "      <td>-0.228649</td>\n",
              "      <td>-0.082065</td>\n",
              "    </tr>\n",
              "    <tr>\n",
              "      <th>3</th>\n",
              "      <td>-0.537646</td>\n",
              "      <td>0.035623</td>\n",
              "      <td>0.766177</td>\n",
              "      <td>-0.227561</td>\n",
              "      <td>-0.081958</td>\n",
              "    </tr>\n",
              "    <tr>\n",
              "      <th>4</th>\n",
              "      <td>-0.415392</td>\n",
              "      <td>-0.247945</td>\n",
              "      <td>0.461062</td>\n",
              "      <td>-0.229140</td>\n",
              "      <td>-0.082065</td>\n",
              "    </tr>\n",
              "    <tr>\n",
              "      <th>...</th>\n",
              "      <td>...</td>\n",
              "      <td>...</td>\n",
              "      <td>...</td>\n",
              "      <td>...</td>\n",
              "      <td>...</td>\n",
              "    </tr>\n",
              "    <tr>\n",
              "      <th>529</th>\n",
              "      <td>-1.210048</td>\n",
              "      <td>-0.484252</td>\n",
              "      <td>-0.138526</td>\n",
              "      <td>-0.230544</td>\n",
              "      <td>-0.082149</td>\n",
              "    </tr>\n",
              "    <tr>\n",
              "      <th>530</th>\n",
              "      <td>-0.476519</td>\n",
              "      <td>-0.496068</td>\n",
              "      <td>0.571045</td>\n",
              "      <td>-0.230579</td>\n",
              "      <td>-0.082154</td>\n",
              "    </tr>\n",
              "    <tr>\n",
              "      <th>531</th>\n",
              "      <td>-0.354264</td>\n",
              "      <td>-0.484252</td>\n",
              "      <td>0.571045</td>\n",
              "      <td>-0.230579</td>\n",
              "      <td>-0.082155</td>\n",
              "    </tr>\n",
              "    <tr>\n",
              "      <th>532</th>\n",
              "      <td>-1.393430</td>\n",
              "      <td>-0.354283</td>\n",
              "      <td>0.216260</td>\n",
              "      <td>-0.230474</td>\n",
              "      <td>-0.082112</td>\n",
              "    </tr>\n",
              "    <tr>\n",
              "      <th>533</th>\n",
              "      <td>-1.760194</td>\n",
              "      <td>0.141961</td>\n",
              "      <td>-0.138526</td>\n",
              "      <td>-0.230263</td>\n",
              "      <td>-0.081983</td>\n",
              "    </tr>\n",
              "  </tbody>\n",
              "</table>\n",
              "<p>534 rows × 5 columns</p>\n",
              "</div>"
            ],
            "text/plain": [
              "           DO       BOD  NITRATE_N_NITRITE_N  FECAL_COLIFORM  TOTAL_COLIFORM\n",
              "0    0.012500 -0.224315             0.216260       -0.230614       -0.082107\n",
              "1   -0.232009 -0.259761             0.216260       -0.228193       -0.082030\n",
              "2   -0.537646 -0.129792             2.699759       -0.228649       -0.082065\n",
              "3   -0.537646  0.035623             0.766177       -0.227561       -0.081958\n",
              "4   -0.415392 -0.247945             0.461062       -0.229140       -0.082065\n",
              "..        ...       ...                  ...             ...             ...\n",
              "529 -1.210048 -0.484252            -0.138526       -0.230544       -0.082149\n",
              "530 -0.476519 -0.496068             0.571045       -0.230579       -0.082154\n",
              "531 -0.354264 -0.484252             0.571045       -0.230579       -0.082155\n",
              "532 -1.393430 -0.354283             0.216260       -0.230474       -0.082112\n",
              "533 -1.760194  0.141961            -0.138526       -0.230263       -0.081983\n",
              "\n",
              "[534 rows x 5 columns]"
            ]
          },
          "metadata": {
            "tags": []
          },
          "execution_count": 46
        }
      ]
    },
    {
      "cell_type": "markdown",
      "metadata": {
        "id": "7_iy5ad9YY01"
      },
      "source": [
        " ## Métricas de avaliação e validação\n",
        "\n",
        "  Uma métrica qualitativa de  avaliação do desempenho é o erro quadrático médio (MSE) é dado pela soma dos erros ao quadrado  dividido pelo total de amostras\n",
        "  \n",
        " \\begin{equation}\n",
        " MSE = \\frac{1}{N}\\sum_{i=1}^{N}\\left ( y_i-\\hat{y}_i \\right )^2\n",
        " \\end{equation}\n",
        " \n",
        "  Tirando a raíz quadrada do  $MSE$ defini-se o $RMSE$ :\n",
        " \n",
        " \n",
        "  \\begin{equation}\n",
        " RMSE = \\sqrt{\\frac{1}{N}\\sum_{i=1}^{N}\\left ( y_i-\\hat{y}_i \\right )^2}\n",
        " \\end{equation}\n",
        " \n",
        "  O $RMSE$ mede a performace do modelo, o $R^2$ representa a proporção da variância para uma variável dependente que é explicada por uma variável independente em um modelo de regressão, o qual é difinido pela da seguinte forma:\n",
        "   \\begin{equation}\n",
        " R^2 =1 -\\frac{RSS}{TSS}\n",
        " \\end{equation}\n",
        " onde $RSS=  \\sum_{i=1}^{N}(y_i-\\hat{y}_i)^2$, que pode ser interpretado como  uma medida dispersão dos dados gerados pelo em relação aos originais e $TSS = \\sum_{i=1}^{N}\\left ( y_i -\\bar{y}\\right )$, que mede a variância em relação a saída.  "
      ]
    },
    {
      "cell_type": "markdown",
      "metadata": {
        "id": "wqlgkhIAWnb3"
      },
      "source": [
        "## Regressão linear por mínimos quadrados\n",
        "A regressão linear é uma abordagem muito simples para o aprendizado supervisionado. É uma abordagem muito simples para prever uma resposta quantitativa  de uma saída $Y$ no\n",
        "tendo como  base em uma única variável preditora  de entrada $X$. é preciso que exista uma relação  aproximadamente linear entre $X$ e $Y$:\n",
        "\\begin{equation}\n",
        "Y \\approx \\beta_0+\\beta_1X_1+\\beta_1X_1+...+\\beta_NX_N\n",
        "\\end{equation}\n",
        "\n",
        "Onde $\\beta_0$,$\\beta_1$,...,$\\beta_N$ são  constantes desconhecidas a seren determinadas no processo, . Os dados são utilizados para estimar os coeficientes. $\\hat{\\beta}_0$ , $\\hat{\\beta}_1$,...,$\\hat{\\beta}_1$, que serão utilizados para determinar o nosso  estimados $\\hat{y}$. Nesse processo existe a presença de um erro irredutível, o objetivo consiste em minimizar a soma dos erros quadrados:\n",
        "\\begin{equation}\n",
        "J\\left ( \\beta_0,\\beta_1,..,\\beta_N \\right ) =   \\sum_{i=1}^{N}e_i^2 = \\sum_{i=1}^{N}\\left ( y_i-\\hat{\\beta}_0-\\hat{\\beta}_1x_i \\right )^2\n",
        "\\end{equation}\n",
        "\n",
        "Igualando a derivada a função custo a zero, determina-se as coeficientes do modelo,\n",
        "\\begin{equation}\n",
        " \\frac{\\partial J}{\\partial \\beta_n}   =0\n",
        "\\end{equation}\n",
        "\n",
        "\n",
        "Obtem-se  um sistema de equações com $N$  incógnitas. \n",
        "\n"
      ]
    },
    {
      "cell_type": "code",
      "metadata": {
        "colab": {
          "base_uri": "https://localhost:8080/"
        },
        "id": "DYHaAZyDXwVy",
        "outputId": "537a4be7-909c-4204-b5ff-8e1136ce70e1"
      },
      "source": [
        "from sklearn import linear_model\n",
        "from sklearn.metrics import mean_absolute_error\n",
        "X = dadostratados.drop(['BOD'], axis=1)\n",
        "Y = dadostratados['BOD']\n",
        "X_train, X_test, y_train, y_test = train_test_split(  X, Y, test_size=0.30, random_state=42) \n",
        "regr = linear_model.LinearRegression()\n",
        "regr.fit(X_train, y_train)"
      ],
      "execution_count": null,
      "outputs": [
        {
          "output_type": "execute_result",
          "data": {
            "text/plain": [
              "LinearRegression(copy_X=True, fit_intercept=True, n_jobs=None, normalize=False)"
            ]
          },
          "metadata": {
            "tags": []
          },
          "execution_count": 15
        }
      ]
    },
    {
      "cell_type": "code",
      "metadata": {
        "colab": {
          "base_uri": "https://localhost:8080/"
        },
        "id": "FBiGXqqayhZK",
        "outputId": "106e2abe-eed5-4cdd-85a1-65aedba6b50b"
      },
      "source": [
        "cv = RepeatedKFold(n_splits=10, n_repeats=5, random_state=1)\n",
        "RMSE = cross_val_score(regr, X_train, y_train,scoring = 'neg_mean_squared_error',cv=cv, n_jobs=-1)\n",
        "RMSE = np.sqrt(-RMSE.mean())\n",
        "'RMSE treino',RMSE"
      ],
      "execution_count": null,
      "outputs": [
        {
          "output_type": "execute_result",
          "data": {
            "text/plain": [
              "('RMSE treino', 0.8810679504653917)"
            ]
          },
          "metadata": {
            "tags": []
          },
          "execution_count": 16
        }
      ]
    },
    {
      "cell_type": "code",
      "metadata": {
        "colab": {
          "base_uri": "https://localhost:8080/"
        },
        "id": "3NWD12Dpy9dm",
        "outputId": "7031acb7-be44-4072-942b-da121ff15d13"
      },
      "source": [
        "cv = RepeatedKFold(n_splits=5, n_repeats=5, random_state=1)\n",
        "RMSE = cross_val_score(regr, X_test, y_test,scoring = 'neg_mean_squared_error',cv=cv, n_jobs=-1)\n",
        "RMSE = np.sqrt(-RMSE.mean())\n",
        "'RMSE teste',RMSE"
      ],
      "execution_count": null,
      "outputs": [
        {
          "output_type": "execute_result",
          "data": {
            "text/plain": [
              "('RMSE teste', 4.612660953204307)"
            ]
          },
          "metadata": {
            "tags": []
          },
          "execution_count": 17
        }
      ]
    },
    {
      "cell_type": "code",
      "metadata": {
        "colab": {
          "base_uri": "https://localhost:8080/"
        },
        "id": "Swm78rrBbLEQ",
        "outputId": "a7a7f599-a1b6-4726-d0ea-6d3ff486aa77"
      },
      "source": [
        "r2_score(y_train, regr.predict(X_train))"
      ],
      "execution_count": null,
      "outputs": [
        {
          "output_type": "execute_result",
          "data": {
            "text/plain": [
              "0.4088593584234066"
            ]
          },
          "metadata": {
            "tags": []
          },
          "execution_count": 18
        }
      ]
    },
    {
      "cell_type": "code",
      "metadata": {
        "colab": {
          "base_uri": "https://localhost:8080/"
        },
        "id": "Y8W8mikb0VBG",
        "outputId": "bf0aca9e-0f68-4ae0-9153-1d50fd89287c"
      },
      "source": [
        "r2_score(y_test, regr.predict(X_test))"
      ],
      "execution_count": null,
      "outputs": [
        {
          "output_type": "execute_result",
          "data": {
            "text/plain": [
              "0.23414777556028"
            ]
          },
          "metadata": {
            "tags": []
          },
          "execution_count": 19
        }
      ]
    },
    {
      "cell_type": "code",
      "metadata": {
        "colab": {
          "base_uri": "https://localhost:8080/",
          "height": 279
        },
        "id": "29f2gsAfPjJa",
        "outputId": "d5b4375a-f988-4fd4-f11a-64ea16724e51"
      },
      "source": [
        "y_pred = np.array(regr.predict(X_test))\n",
        "plt.scatter(y_test,y_pred,color='black')\n",
        "plt.xlabel('Real')\n",
        "plt.ylabel('Estimado')\n",
        " \n",
        "tikzplotlib.save(\"real_estimado_regrlinear.pgf\")"
      ],
      "execution_count": null,
      "outputs": [
        {
          "output_type": "display_data",
          "data": {
            "image/png": "[encoded data removed]",
            "text/plain": [
              "<Figure size 432x288 with 1 Axes>"
            ]
          },
          "metadata": {
            "tags": [],
            "needs_background": "light"
          }
        }
      ]
    },
    {
      "cell_type": "markdown",
      "metadata": {
        "id": "-c4ohN_paWif"
      },
      "source": [
        "## Modelos penalizados- Ridge Regression \n",
        "Os coeficientes produzidos pela regressão de mínimos quadrados ordinários são imparciais e, este modelo também tem a variância mais baixa. Dado que o $MSE$ consiste em uma combinação de variância e bias, é possível gerar  modelos com MSEs menores, faz com que estimativas dos parâmetros obitidos sejam tendenciosas. O normal que ocorra um pequeno aumento no viés inplique em uma queda considerável na variância, produzindo um $MSE$ menor do que os coeficientes de regressão de mínimos quadrados. Uma consequência das grandes correlações entre as variâncias do preditor é que a variância pode se tornar muito grande.  \n",
        "Uma possível solução seria penalizar a soma dos erros quadráticos. No presente estudo utilizou-se a Ridge regression, a qual  adiciona uma penalidade na soma do parâmetro de regressão quadrado:\n",
        "\n",
        "\n",
        "\\begin{equation}\n",
        "RSS_{L2} = \\sum_{i=1}^{N}\\left ( y_i -\\hat{y}_i\\right )+\\lambda\\sum_{j=1}^{N}\\beta^2_j\n",
        "\\end{equation}\n",
        "Este método reduz as estimativas para 0 à medida que a penalidade $\\lambda$ torna-se  grande.Ao penalizar o moelo, realiza-se uma compensação entre a variância e o viés do modelo.\n"
      ]
    },
    {
      "cell_type": "code",
      "metadata": {
        "id": "sEX6_C1aavXN"
      },
      "source": [
        "from sklearn.linear_model import Ridge\n",
        "def ridge(x, y,alpha,preditor):\n",
        "    X_train,X_test,y_train,y_test=train_test_split(x,y,test_size=0.3,random_state=42)\n",
        "    rr = Ridge(alpha=alpha) \n",
        "    rr.fit(X_train, y_train)\n",
        "    cv = RepeatedKFold(n_splits=10, n_repeats=5, random_state=1)\n",
        "    RMSE = cross_val_score(rr, X_train, y_train,scoring = 'neg_mean_squared_error',cv=cv, n_jobs=-1)\n",
        "    RMSE = np.sqrt(-RMSE.mean())\n",
        "    return RMSE"
      ],
      "execution_count": null,
      "outputs": []
    },
    {
      "cell_type": "code",
      "metadata": {
        "colab": {
          "base_uri": "https://localhost:8080/"
        },
        "id": "s9xhk0c2aRa9",
        "outputId": "34d37067-bb97-4e02-f936-b9431c8b58b0"
      },
      "source": [
        "RMSEval = []\n",
        "lambdas  = [ ]\n",
        "l2 = []\n",
        "alpha = np.linspace(0.01,300,10)\n",
        "for j in range(0,1):\n",
        "    for i in range(0,10):\n",
        "        RMSEval.append(ridge(dadostratados.drop(['BOD'], axis=1), dadostratados['BOD'].values.reshape(-1, 1),alpha[i],variaveis[0]))\n",
        "        lambdas.append(alpha[i])\n",
        "    print(round(min(RMSEval),4), lambdas[RMSEval.index(min(RMSEval))])\n",
        "    l2.append(lambdas[RMSEval.index(min(RMSEval))])\n",
        "print('ideal lambda:',l2)"
      ],
      "execution_count": null,
      "outputs": [
        {
          "output_type": "stream",
          "text": [
            "0.8567 100.00666666666667\n",
            "ideal lambda: [100.00666666666667]\n"
          ],
          "name": "stdout"
        }
      ]
    },
    {
      "cell_type": "code",
      "metadata": {
        "colab": {
          "base_uri": "https://localhost:8080/",
          "height": 281
        },
        "id": "z733lDRi2tQ1",
        "outputId": "072630b3-ba8b-4c2d-b41b-166a0cd53e81"
      },
      "source": [
        "plt.plot(alpha,RMSEval,color='black') \n",
        "plt.xlabel('$\\lambda$')\n",
        "plt.ylabel('$RMSE$')\n",
        "\n",
        "tikzplotlib.save(\"rmsexlambda.pgf\")"
      ],
      "execution_count": null,
      "outputs": [
        {
          "output_type": "display_data",
          "data": {
            "image/png": "[encoded data removed]",
            "text/plain": [
              "<Figure size 432x288 with 1 Axes>"
            ]
          },
          "metadata": {
            "tags": [],
            "needs_background": "light"
          }
        }
      ]
    },
    {
      "cell_type": "code",
      "metadata": {
        "colab": {
          "base_uri": "https://localhost:8080/"
        },
        "id": "vpFyQzR02_ci",
        "outputId": "6c025d7b-faa0-4fd1-83ad-7eecf07aa3eb"
      },
      "source": [
        "x=dadostratados.drop(['BOD'], axis=1)\n",
        "y= dadostratados['BOD'].values.reshape(-1, 1)\n",
        "X_train,X_test,y_train,y_test=train_test_split(x,y,test_size=0.3,random_state=42)\n",
        "rr = Ridge(alpha=l2) \n",
        "rr.fit(X_train, y_train)\n"
      ],
      "execution_count": null,
      "outputs": [
        {
          "output_type": "execute_result",
          "data": {
            "text/plain": [
              "Ridge(alpha=[100.00666666666667], copy_X=True, fit_intercept=True,\n",
              "      max_iter=None, normalize=False, random_state=None, solver='auto',\n",
              "      tol=0.001)"
            ]
          },
          "metadata": {
            "tags": []
          },
          "execution_count": 24
        }
      ]
    },
    {
      "cell_type": "code",
      "metadata": {
        "colab": {
          "base_uri": "https://localhost:8080/",
          "height": 279
        },
        "id": "BEsMK6v3fB_E",
        "outputId": "68c1e8b5-5226-402c-e0f0-4c6c1a8521a8"
      },
      "source": [
        "y_pred = np.array(rr.predict(X_test))\n",
        "plt.scatter(y_test,y_pred,color='black')\n",
        "plt.xlabel('Real')\n",
        "plt.ylabel('Estimado')\n",
        " \n",
        "tikzplotlib.save(\"real_estimado_ridge.pgf\")"
      ],
      "execution_count": null,
      "outputs": [
        {
          "output_type": "display_data",
          "data": {
            "image/png": "[encoded data removed]",
            "text/plain": [
              "<Figure size 432x288 with 1 Axes>"
            ]
          },
          "metadata": {
            "tags": [],
            "needs_background": "light"
          }
        }
      ]
    },
    {
      "cell_type": "code",
      "metadata": {
        "colab": {
          "base_uri": "https://localhost:8080/"
        },
        "id": "8LUo4QdT2lB3",
        "outputId": "d468427d-7c45-4044-cd0a-c52fb1fe2fb7"
      },
      "source": [
        "cv = RepeatedKFold(n_splits=10, n_repeats=5, random_state=1)\n",
        "RMSE = cross_val_score(rr, X_train, y_train,scoring = 'neg_mean_squared_error',cv=cv, n_jobs=-1)\n",
        "RMSE = np.sqrt(-RMSE.mean())\n",
        "'RMSE treino',RMSE"
      ],
      "execution_count": null,
      "outputs": [
        {
          "output_type": "execute_result",
          "data": {
            "text/plain": [
              "('RMSE treino', 0.8567388498239565)"
            ]
          },
          "metadata": {
            "tags": []
          },
          "execution_count": 26
        }
      ]
    },
    {
      "cell_type": "code",
      "metadata": {
        "colab": {
          "base_uri": "https://localhost:8080/"
        },
        "id": "BAlHkfLH2nfP",
        "outputId": "754fc399-6980-4f52-d374-7e7e872ba003"
      },
      "source": [
        "cv = RepeatedKFold(n_splits=10, n_repeats=5, random_state=1)\n",
        "RMSE = cross_val_score(rr, X_test, y_test,scoring = 'neg_mean_squared_error',cv=cv, n_jobs=-1)\n",
        "RMSE = np.sqrt(-RMSE.mean())\n",
        "'RMSE treino',RMSE"
      ],
      "execution_count": null,
      "outputs": [
        {
          "output_type": "execute_result",
          "data": {
            "text/plain": [
              "('RMSE treino', 0.7996933290944075)"
            ]
          },
          "metadata": {
            "tags": []
          },
          "execution_count": 27
        }
      ]
    },
    {
      "cell_type": "code",
      "metadata": {
        "colab": {
          "base_uri": "https://localhost:8080/"
        },
        "id": "rHTKsM-Noewv",
        "outputId": "1776a68b-c3cd-41a7-9305-28bdcc7425e2"
      },
      "source": [
        "r2_score(y_train, rr.predict(X_train))"
      ],
      "execution_count": null,
      "outputs": [
        {
          "output_type": "execute_result",
          "data": {
            "text/plain": [
              "0.3985003231324987"
            ]
          },
          "metadata": {
            "tags": []
          },
          "execution_count": 28
        }
      ]
    },
    {
      "cell_type": "code",
      "metadata": {
        "colab": {
          "base_uri": "https://localhost:8080/"
        },
        "id": "98e1LjRrohDC",
        "outputId": "7887d48c-86a7-44fa-8ac1-6a6ddc734cc8"
      },
      "source": [
        "r2_score(y_test, rr.predict(X_test))"
      ],
      "execution_count": null,
      "outputs": [
        {
          "output_type": "execute_result",
          "data": {
            "text/plain": [
              "0.23799158657055397"
            ]
          },
          "metadata": {
            "tags": []
          },
          "execution_count": 29
        }
      ]
    },
    {
      "cell_type": "markdown",
      "metadata": {
        "id": "SDw-9D8o4b8v"
      },
      "source": [
        "# Regressão por Minimos Quadrados Parciais - PLS"
      ]
    },
    {
      "cell_type": "code",
      "metadata": {
        "id": "dsElEcZ64M9D"
      },
      "source": [
        "from sklearn import model_selection\n",
        "from sklearn.cross_decomposition import PLSRegression, PLSSVD\n",
        "\n",
        "X  = dadostratados.drop(['BOD'], axis=1).astype('float64')\n",
        "y= dadostratados['BOD']\n",
        "X_train, X_test , y_train, y_test = model_selection.train_test_split(X, y, test_size=0.3, random_state=1)\n"
      ],
      "execution_count": null,
      "outputs": []
    },
    {
      "cell_type": "code",
      "metadata": {
        "colab": {
          "base_uri": "https://localhost:8080/",
          "height": 279
        },
        "id": "QxGT-DlM5_hp",
        "outputId": "c6225a60-5e70-4515-d34e-489f85c05db3"
      },
      "source": [
        "from sklearn.preprocessing import scale \n",
        "\n",
        "n = len(X_train)\n",
        "kf_10 = RepeatedKFold(n_splits=5, n_repeats=5, random_state=1)\n",
        "rmse = []\n",
        "for i in np.arange(1,4):\n",
        "    pls = PLSRegression(n_components=i)\n",
        "    score = model_selection.cross_val_score(pls, scale(X_train), y_train, cv=kf_10, scoring='neg_mean_squared_error').mean()\n",
        "    rmse.append(np.sqrt(-score))\n",
        "\n",
        "plt.plot(np.arange(1, 4), np.array(rmse), '-x',color='black')\n",
        "plt.xlabel(' N° de componentes principais')\n",
        "plt.ylabel('RMSE')\n",
        "tikzplotlib.save(\"pls.pgf\")"
      ],
      "execution_count": null,
      "outputs": [
        {
          "output_type": "display_data",
          "data": {
            "image/png": "[encoded data removed]",
            "text/plain": [
              "<Figure size 432x288 with 1 Axes>"
            ]
          },
          "metadata": {
            "tags": [],
            "needs_background": "light"
          }
        }
      ]
    },
    {
      "cell_type": "code",
      "metadata": {
        "id": "HgHq14xzrsxY"
      },
      "source": [
        "pls = PLSRegression(n_components=3)"
      ],
      "execution_count": null,
      "outputs": []
    },
    {
      "cell_type": "code",
      "metadata": {
        "colab": {
          "base_uri": "https://localhost:8080/"
        },
        "id": "sRrFl21JxaAW",
        "outputId": "6696a6d2-74d2-46b0-b64f-820217ea69ab"
      },
      "source": [
        "cv = RepeatedKFold(n_splits=10, n_repeats=5, random_state=1)\n",
        "RMSE = cross_val_score(pls, X_train, y_train,scoring = 'neg_mean_squared_error',cv=cv, n_jobs=-1)\n",
        "RMSE = np.sqrt(-RMSE.mean())\n",
        "'RMSE treino',RMSE"
      ],
      "execution_count": null,
      "outputs": [
        {
          "output_type": "execute_result",
          "data": {
            "text/plain": [
              "('RMSE treino', 0.8966774590440122)"
            ]
          },
          "metadata": {
            "tags": []
          },
          "execution_count": 33
        }
      ]
    },
    {
      "cell_type": "code",
      "metadata": {
        "colab": {
          "base_uri": "https://localhost:8080/"
        },
        "id": "FsoJFqrtxflO",
        "outputId": "a9a0c497-ceb1-481e-da73-38bf17d1ae14"
      },
      "source": [
        "cv = RepeatedKFold(n_splits=10, n_repeats=5, random_state=1)\n",
        "RMSE = cross_val_score(pls, X_test, y_test,scoring = 'neg_mean_squared_error',cv=cv, n_jobs=-1)\n",
        "RMSE = np.sqrt(-RMSE.mean())\n",
        "'RMSE treino',RMSE"
      ],
      "execution_count": null,
      "outputs": [
        {
          "output_type": "execute_result",
          "data": {
            "text/plain": [
              "('RMSE treino', 17.548768710036747)"
            ]
          },
          "metadata": {
            "tags": []
          },
          "execution_count": 34
        }
      ]
    },
    {
      "cell_type": "code",
      "metadata": {
        "id": "xggnf_V_yR-T"
      },
      "source": [
        "pls.fit(X, Y)\n",
        "\n",
        "y_pred = pls.predict(X)"
      ],
      "execution_count": null,
      "outputs": []
    },
    {
      "cell_type": "code",
      "metadata": {
        "colab": {
          "base_uri": "https://localhost:8080/"
        },
        "id": "k1tHsB6gxr8n",
        "outputId": "8453fb2b-a909-4df9-b229-bb3127b51054"
      },
      "source": [
        "r2_score(y_train, pls.predict(X_train))"
      ],
      "execution_count": null,
      "outputs": [
        {
          "output_type": "execute_result",
          "data": {
            "text/plain": [
              "0.41097769073945556"
            ]
          },
          "metadata": {
            "tags": []
          },
          "execution_count": 36
        }
      ]
    },
    {
      "cell_type": "code",
      "metadata": {
        "colab": {
          "base_uri": "https://localhost:8080/"
        },
        "id": "1gyTtFI9yfj1",
        "outputId": "af939826-b05d-4593-c0c4-1f2f71e6ebe1"
      },
      "source": [
        "r2_score(y_test, pls.predict(X_test))"
      ],
      "execution_count": null,
      "outputs": [
        {
          "output_type": "execute_result",
          "data": {
            "text/plain": [
              "0.31959836677927844"
            ]
          },
          "metadata": {
            "tags": []
          },
          "execution_count": 37
        }
      ]
    },
    {
      "cell_type": "code",
      "metadata": {
        "colab": {
          "base_uri": "https://localhost:8080/",
          "height": 279
        },
        "id": "rmD1mTlaylpt",
        "outputId": "514f3128-57d8-4b04-f7b3-f5b388cf9b84"
      },
      "source": [
        "y_pred =pls.predict(X_test)\n",
        "plt.scatter(y_test,y_pred,color='black')\n",
        "plt.xlabel('Real')\n",
        "plt.ylabel('Estimado')\n",
        " \n",
        "tikzplotlib.save(\"real_estimado_pls.pgf\")"
      ],
      "execution_count": null,
      "outputs": [
        {
          "output_type": "display_data",
          "data": {
            "image/png": "[encoded data removed]",
            "text/plain": [
              "<Figure size 432x288 with 1 Axes>"
            ]
          },
          "metadata": {
            "tags": [],
            "needs_background": "light"
          }
        }
      ]
    },
    {
      "cell_type": "markdown",
      "metadata": {
        "id": "2nV3jCgb6kPA"
      },
      "source": [
        "#Rede neural"
      ]
    },
    {
      "cell_type": "code",
      "metadata": {
        "id": "qsUQdRSS85vx"
      },
      "source": [
        "X = dadostratados.drop(['BOD'], axis=1)\n",
        "Y = dadostratados['BOD']"
      ],
      "execution_count": null,
      "outputs": []
    },
    {
      "cell_type": "code",
      "metadata": {
        "id": "Ewt8TmR2S_F5"
      },
      "source": [
        "X_train, X_test, y_train, y_test = train_test_split(  X, Y, test_size=0.30, random_state=42) \n"
      ],
      "execution_count": null,
      "outputs": []
    },
    {
      "cell_type": "code",
      "metadata": {
        "id": "C-V91havTNjF"
      },
      "source": [
        "from sklearn.neural_network import MLPRegressor\n",
        "from sklearn.datasets import make_regression\n",
        "from sklearn.model_selection import train_test_split\n",
        "\n",
        "regr = MLPRegressor(random_state=42, max_iter=5000).fit(X_train, y_train)\n"
      ],
      "execution_count": null,
      "outputs": []
    },
    {
      "cell_type": "code",
      "metadata": {
        "colab": {
          "base_uri": "https://localhost:8080/"
        },
        "id": "yO7NdbrnTXkf",
        "outputId": "c2e5ee82-9d34-4750-842d-25d838b8fa3a"
      },
      "source": [
        "mean_absolute_error(y_test, regr.predict(X_test))"
      ],
      "execution_count": null,
      "outputs": [
        {
          "output_type": "execute_result",
          "data": {
            "text/plain": [
              "0.34194475244123634"
            ]
          },
          "metadata": {
            "tags": []
          },
          "execution_count": 42
        }
      ]
    },
    {
      "cell_type": "code",
      "metadata": {
        "colab": {
          "base_uri": "https://localhost:8080/"
        },
        "id": "y6J69Bh9UOzL",
        "outputId": "9f8d700f-bee6-45ae-ad0f-83fc1554a9bb"
      },
      "source": [
        "r2_score(y_test, regr.predict(X_test))"
      ],
      "execution_count": null,
      "outputs": [
        {
          "output_type": "execute_result",
          "data": {
            "text/plain": [
              "0.571602132806933"
            ]
          },
          "metadata": {
            "tags": []
          },
          "execution_count": 43
        }
      ]
    },
    {
      "cell_type": "code",
      "metadata": {
        "colab": {
          "base_uri": "https://localhost:8080/",
          "height": 279
        },
        "id": "UzSrdd5j0vHt",
        "outputId": "07b478e6-e17d-4f09-f915-01ed7ee6d211"
      },
      "source": [
        "y_pred =regr.predict(X_test)\n",
        "plt.scatter(y_test,y_pred,color='black')\n",
        "plt.xlabel('Real')\n",
        "plt.ylabel('Estimado')\n",
        " \n",
        "tikzplotlib.save(\"real_estimado_mlp.pgf\")"
      ],
      "execution_count": null,
      "outputs": [
        {
          "output_type": "display_data",
          "data": {
            "image/png": "[encoded data removed]",
            "text/plain": [
              "<Figure size 432x288 with 1 Axes>"
            ]
          },
          "metadata": {
            "tags": [],
            "needs_background": "light"
          }
        }
      ]
    },
    {
      "cell_type": "code",
      "metadata": {
        "colab": {
          "base_uri": "https://localhost:8080/"
        },
        "id": "JVhIhGBg2g9M",
        "outputId": "f474804d-ae13-49b1-8dc4-6b2aacb68129"
      },
      "source": [
        "cv = RepeatedKFold(n_splits=10, n_repeats=5, random_state=1)\n",
        "RMSE = cross_val_score(regr, X_train, y_train,scoring = 'neg_mean_squared_error',cv=cv, n_jobs=-1)\n",
        "RMSE = np.sqrt(-RMSE.mean())\n",
        "'RMSE treino',RMSE"
      ],
      "execution_count": null,
      "outputs": [
        {
          "output_type": "execute_result",
          "data": {
            "text/plain": [
              "('RMSE treino', 0.8479495179014089)"
            ]
          },
          "metadata": {
            "tags": []
          },
          "execution_count": 45
        }
      ]
    }
  ]
}